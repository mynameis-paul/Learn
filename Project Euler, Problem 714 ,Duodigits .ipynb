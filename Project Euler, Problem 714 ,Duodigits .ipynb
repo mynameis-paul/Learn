import math
Limit = 110
result = 0
counter=1
multiplier = 1
while counter != Limit:
    variable = counter * multiplier
    #print( variable, " variable ", counter, "counter ", multiplier , " multipler ")
    container = str(variable)
    if len(set(container)) == 2 or len(set(container)) == 1 and len(container)>1:
            result += variable
            multiplier=1
            counter += 1
    else:
            multiplier +=1
            
print (result)
#result_with_scientific_notation = "{:.13e}".format(result)
#print (result_with_scientific_notation)
