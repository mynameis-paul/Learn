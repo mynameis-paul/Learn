{
 "cells": [
  {
   "cell_type": "code",
   "execution_count": 25,
   "metadata": {},
   "outputs": [
    {
     "name": "stdout",
     "output_type": "stream",
     "text": [
      "11006\n"
     ]
    }
   ],
   "source": [
    "#second branch file\n",
    "\n",
    "import math\n",
    "Limit = 110\n",
    "result = 0\n",
    "counter=1\n",
    "multiplier = 1\n",
    "while counter != Limit:\n",
    "    variable = counter * multiplier\n",
    "    #print( variable, \" variable \", counter, \"counter \", multiplier , \" multipler \")\n",
    "    container = str(variable)\n",
    "    if len(set(container)) == 2 or len(set(container)) == 1 and len(container)>1:\n",
    "            result += variable\n",
    "            multiplier=1\n",
    "            counter += 1\n",
    "    else:\n",
    "            multiplier +=1\n",
    "            \n",
    "print (result)\n",
    "#result_with_scientific_notation = \"{:.13e}\".format(result)\n",
    "#print (result_with_scientific_notation)"
   ]
  },
  {
   "cell_type": "code",
   "execution_count": null,
   "metadata": {},
   "outputs": [],
   "source": []
  }
 ],
 "metadata": {
  "kernelspec": {
   "display_name": "Python 3",
   "language": "python",
   "name": "python3"
  },
  "language_info": {
   "codemirror_mode": {
    "name": "ipython",
    "version": 3
   },
   "file_extension": ".py",
   "mimetype": "text/x-python",
   "name": "python",
   "nbconvert_exporter": "python",
   "pygments_lexer": "ipython3",
   "version": "3.7.6"
  }
 },
 "nbformat": 4,
 "nbformat_minor": 4
}
